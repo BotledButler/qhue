{
 "cells": [
  {
   "cell_type": "markdown",
   "metadata": {
    "deletable": true,
    "editable": true
   },
   "source": [
    "# Qhue experiments\n",
    "\n",
    "Experiments with the [Qhue](https://github.com/quentinsf/qhue) python module.\n",
    "\n",
    "If you haven't already, then `pip install qhue` before starting.  \n",
    "\n",
    "Some of these examples may assume you have a recent bridge with recent software.\n",
    "\n",
    "*If you're viewing this with my sample output, I've truncated some of it for readability. I have a lot of lights!*"
   ]
  },
  {
   "cell_type": "markdown",
   "metadata": {
    "deletable": true,
    "editable": true
   },
   "source": [
    "## Basics "
   ]
  },
  {
   "cell_type": "code",
   "execution_count": 1,
   "metadata": {
    "collapsed": false,
    "deletable": true,
    "editable": true
   },
   "outputs": [],
   "source": [
    "# Put in the IP address of your Hue bridge here\n",
    "BRIDGE_IP='192.168.0.45'\n",
    "\n",
    "from qhue import Bridge, QhueException, create_new_username\n"
   ]
  },
  {
   "cell_type": "code",
   "execution_count": 2,
   "metadata": {
    "collapsed": false,
    "deletable": true,
    "editable": true
   },
   "outputs": [],
   "source": [
    "# If you have a username set up on your bridge, enter it here\n",
    "# otherwise leave it as None and you'll be prompted to create one.\n",
    "# e.g.:\n",
    "# username='zeZomfNu-y-p1PLM9oeYTiXbtqsxn-q1-7RNLI4B'\n",
    "\n",
    "username=None\n",
    "\n",
    "if username is None:\n",
    "    username = create_new_username(BRIDGE_IP)\n",
    "    print(\"New user: {} . Put this in the username variable above.\".format(username))"
   ]
  },
  {
   "cell_type": "markdown",
   "metadata": {
    "deletable": true,
    "editable": true
   },
   "source": [
    "Let's get the numbers and names of the lights:"
   ]
  },
  {
   "cell_type": "code",
   "execution_count": 3,
   "metadata": {
    "collapsed": false,
    "deletable": true,
    "editable": true
   },
   "outputs": [
    {
     "name": "stdout",
     "output_type": "stream",
     "text": [
      "Kitchen table    11\n",
      "Shed             23\n",
      "Kitchen centre   12\n",
      "Picture rail     15\n",
      "Sitting room 2   14\n",
      "Dining table 1   17\n",
      "Dining table 3   16\n",
      "Mantelpiece L    33\n",
      "Dining table 2   18\n",
      "Bedroom 1        22\n",
      "Sideboard 1      34\n",
      "Kitchen Sink     3\n",
      "Sideboard 2      27\n",
      "Top Landing      5\n",
      "Landing          4\n",
      "Front hall 1     7\n",
      "Kitchen Stove    6\n",
      "Front hall 2     8\n",
      "Mantelpiece R    32\n",
      "Sitting room 1   21\n"
     ]
    }
   ],
   "source": [
    "bridge = Bridge(BRIDGE_IP, username)\n",
    "lights = bridge.lights()\n",
    "for num, info in lights.items():\n",
    "    print(\"{:16} {}\".format(info['name'], num))"
   ]
  },
  {
   "cell_type": "markdown",
   "metadata": {
    "deletable": true,
    "editable": true
   },
   "source": [
    "Let's try interactively changing a light.  You could make this a lot more sophisticated:"
   ]
  },
  {
   "cell_type": "code",
   "execution_count": null,
   "metadata": {
    "collapsed": false,
    "deletable": true,
    "editable": true
   },
   "outputs": [],
   "source": [
    "from ipywidgets import interact, interactive, fixed\n",
    "import ipywidgets as widgets\n",
    "\n",
    "def setlight(lightid='14', on=True, ct=128, bri=128):\n",
    "    bridge.lights[lightid].state(on=on)\n",
    "    if on:\n",
    "        bridge.lights[lightid].state(bri=bri, ct=ct)\n",
    "\n",
    "light_list = interact(setlight,\n",
    "                      lightid = widgets.Dropdown(\n",
    "                            options={ lights[i]['name']:i for i in lights },\n",
    "                            value='14',\n",
    "                            description='Light:',\n",
    "                        ),\n",
    "                      on = widgets.Checkbox(value=True, description='On/off'),\n",
    "                      bri = widgets.IntSlider(min=0,max=255,value=128, description='Bright:'),\n",
    "                      ct = widgets.IntSlider(min=0,max=255,value=128, description='Colour:'))"
   ]
  },
  {
   "cell_type": "markdown",
   "metadata": {
    "deletable": true,
    "editable": true
   },
   "source": [
    "The [YAML format](https://en.wikipedia.org/wiki/YAML) is a nice way to view the sometimes large amount of structured information which comes back from the bridge. \n",
    "\n",
    "If you haven't got the Python yaml module, `pip install PyYAML`."
   ]
  },
  {
   "cell_type": "code",
   "execution_count": 4,
   "metadata": {
    "collapsed": false,
    "deletable": true,
    "editable": true
   },
   "outputs": [
    {
     "name": "stdout",
     "output_type": "stream",
     "text": [
      "20 lights:\n",
      "\n",
      "'11':\n",
      "    manufacturername: Philips\n",
      "    modelid: LCT007\n",
      "    name: Kitchen table\n",
      "    state:\n",
      "        alert: none\n",
      "        bri: 254\n",
      "        colormode: xy\n",
      "        ct: 222\n",
      "        effect: none\n",
      "        hue: 33910\n",
      "        'on': true\n",
      "        reachable: true\n",
      "        sat: 71\n",
      "        xy: [0.3622, 0.3646]\n",
      "    swversion: 5.50.1.19085\n",
      "    type: Extended color light\n",
      "    uniqueid: 00:17:88:01:00:f7:e8:58-0b\n",
      "'12':\n",
      "    manufacturername: Philips\n",
      "    modelid: LCT007\n",
      "    name: Kitchen centre\n",
      "    state:\n",
      "        alert: none\n",
      "        bri: 254\n",
      "        colormode: xy\n",
      "        ct: 239\n",
      "        effect: none\n",
      "        hue: 33853\n",
      "        'on': true\n",
      "        reachable: true\n",
      "        sat: 28\n",
      "        xy: [0.3733, 0.3721]\n",
      "    swversion: 5.50.1.19085\n",
      "    type: Extended color light\n",
      "    uniqueid: 00:17:88:01:00:f6:e4:98-0b\n",
      "'27':\n",
      "    manufacturername: OSRAM\n",
      "    modelid: Classic B40 TW - LIGHTIFY\n",
      "    name: Sideboard 2\n",
      "    state: {alert: none, bri: 254, colormode: ct, ct: 153, 'on': true, reachable: false}\n",
      "    swversion: V1.03.20\n",
      "    type: Color temperature light\n",
      "    uniqueid: 84:18:26:00:00:07:f5:a6-03\n",
      "etc...\n",
      "\n"
     ]
    }
   ],
   "source": [
    "import yaml\n",
    "print(\"{} lights:\\n\".format(len(lights)))\n",
    "print(yaml.safe_dump(lights, indent=4))"
   ]
  },
  {
   "cell_type": "code",
   "execution_count": 5,
   "metadata": {
    "collapsed": false,
    "deletable": true,
    "editable": true
   },
   "outputs": [
    {
     "name": "stdout",
     "output_type": "stream",
     "text": [
      "manufacturername: Philips\n",
      "modelid: LCT001\n",
      "name: Kitchen Sink\n",
      "state:\n",
      "    alert: none\n",
      "    bri: 254\n",
      "    colormode: xy\n",
      "    ct: 226\n",
      "    effect: none\n",
      "    hue: 33882\n",
      "    'on': true\n",
      "    reachable: true\n",
      "    sat: 61\n",
      "    xy: [0.3649, 0.3665]\n",
      "swversion: 5.23.1.13452\n",
      "type: Extended color light\n",
      "uniqueid: 00:17:88:01:00:d3:13:6c-0b\n",
      "\n"
     ]
    }
   ],
   "source": [
    "print(yaml.safe_dump(bridge.lights['3'](), indent=4))"
   ]
  },
  {
   "cell_type": "markdown",
   "metadata": {
    "deletable": true,
    "editable": true
   },
   "source": [
    "## Scenes "
   ]
  },
  {
   "cell_type": "markdown",
   "metadata": {
    "deletable": true,
    "editable": true
   },
   "source": [
    "Let's look at the scenes defined in the bridge, and their IDs.  Some of these may be created manually, and others by the Hue app or other software.\n",
    "\n",
    "Version 1-type scenes just refer to the lights - each light is told: \"Set the value you have stored for this scene\".\n",
    "\n",
    "Version 2 scenes have more details stored in the hub, which is generally more useful."
   ]
  },
  {
   "cell_type": "code",
   "execution_count": 6,
   "metadata": {
    "collapsed": false,
    "deletable": true,
    "editable": true
   },
   "outputs": [
    {
     "name": "stdout",
     "output_type": "stream",
     "text": [
      "141 scenes:\n",
      "\n",
      "-1iru0uZghuPUgV:\n",
      "    appdata: {data: 3dS2m_r04_d03, version: 1}\n",
      "    lastupdated: '2017-02-01T08:21:48'\n",
      "    lights: ['3', '6', '11', '12', '15', '16', '17', '18', '27', '34']\n",
      "    locked: false\n",
      "    name: Concentrate\n",
      "    owner: IneFZ4CIEdSQQN4oCGExhsi0cWquxMrZY6tEElKM\n",
      "    picture: ''\n",
      "    recycle: true\n",
      "    version: 2\n",
      "06869458c-on-0:\n",
      "    appdata: {}\n",
      "    lastupdated: null\n",
      "    lights: ['4', '7', '8']\n",
      "    locked: false\n",
      "    name: Bright hall land\n",
      "    owner: none\n",
      "    picture: ''\n",
      "    recycle: true\n",
      "    version: 1\n",
      "07981a34a-on-0:\n",
      "    appdata: {}\n",
      "    lastupdated: null\n",
      "    lights: ['4', '5']\n",
      "    locked: true\n",
      "    name: 'Warm landing on '\n",
      "    owner: none\n",
      "    picture: ''\n",
      "    recycle: true\n",
      "    version: 1\n",
      "0d9qlRyOk7Td5-0:\n",
      "    appdata: {data: PcOcf_r07_d06, version: 1}\n",
      "    lastupdated: '2016-04-29T07:54:46'\n",
      "    lights: ['7', '8']\n",
      "    locked: false\n",
      "    name: Dimmed\n",
      "    owner: IneFZ4CIEdSQQN4oCGExhsi0cWquxMrZY6tEElKM\n",
      "    picture: ''\n",
      "    recycle: false\n",
      "    version: 2\n",
      "0f7797c16-on-0:\n",
      "    appdata: {}\n",
      "    lastupdated: null\n",
      "    lights: ['3', '6', '7', '8', '11', '12', '15', '16', '17', '18']\n",
      "    locked: false\n",
      "    name: Dining on 0\n",
      "    owner: none\n",
      "    picture: ''\n",
      "    recycle: true\n",
      "    version: 1\n",
      "\n",
      " etc...\n",
      "\n"
     ]
    }
   ],
   "source": [
    "scenes = bridge.scenes()\n",
    "print(\"{} scenes:\\n\".format(len(scenes)))\n",
    "print(yaml.safe_dump(scenes, indent=4))"
   ]
  },
  {
   "cell_type": "markdown",
   "metadata": {
    "deletable": true,
    "editable": true
   },
   "source": [
    "Details of a particular scene from the list:"
   ]
  },
  {
   "cell_type": "code",
   "execution_count": 7,
   "metadata": {
    "collapsed": false,
    "deletable": true,
    "editable": true
   },
   "outputs": [
    {
     "name": "stdout",
     "output_type": "stream",
     "text": [
      "appdata: {data: skbwq_r06_d06, version: 1}\n",
      "lastupdated: '2017-02-01T07:54:30'\n",
      "lights: ['14', '21', '32', '33']\n",
      "lightstates:\n",
      "  '14': {bri: 77, ct: 366, 'on': true}\n",
      "  '21': {bri: 77, ct: 366, 'on': true}\n",
      "  '32': {bri: 77, ct: 367, 'on': true}\n",
      "  '33': {bri: 77, ct: 367, 'on': true}\n",
      "locked: false\n",
      "name: Dimmed\n",
      "owner: IneFZ4CIEdSQQN4oCGExhsi0cWquxMrZY6tEElKM\n",
      "picture: ''\n",
      "recycle: false\n",
      "version: 2\n",
      "\n"
     ]
    }
   ],
   "source": [
    "print(yaml.safe_dump(bridge.scenes['wVXtOrFmdnySqUz']()))"
   ]
  },
  {
   "cell_type": "markdown",
   "metadata": {
    "deletable": true,
    "editable": true
   },
   "source": [
    "Let's list scenes with IDs, last updated time, and the lights affected:"
   ]
  },
  {
   "cell_type": "code",
   "execution_count": 8,
   "metadata": {
    "collapsed": false,
    "deletable": true,
    "editable": true
   },
   "outputs": [
    {
     "name": "stdout",
     "output_type": "stream",
     "text": [
      "\n",
      "6VRh7MuKX1Nheu3  Concentrate          2016-07-23T10:43:38\n",
      "                                        - Landing\n",
      "                                        - Top Landing\n",
      "\n",
      "AsptFt3pCldMO21  Last on state        2016-07-23T10:43:34\n",
      "                                        - Front hall 1\n",
      "                                        - Front hall 2\n",
      "\n",
      "T6UzpfPUK2kmvu7  Energize             2017-02-01T08:21:48\n",
      "                                        - Kitchen Sink\n",
      "                                        - Kitchen Stove\n",
      "                                        - Kitchen table\n",
      "                                        - Kitchen centre\n",
      "                                        - Picture rail\n",
      "                                        - Dining table 3\n",
      "                                        - Dining table 1\n",
      "                                        - Dining table 2\n",
      "                                        - Sideboard 2\n",
      "                                        - Sideboard 1\n",
      "\n",
      "cff986e21-on-15  Spring landing o     None\n",
      "                                        - Landing\n",
      "                                        - Top Landing\n",
      "\n",
      "etc...\n"
     ]
    }
   ],
   "source": [
    "for sid, info in scenes.items():\n",
    "    print(\"\\n{:16} {:20} {}\".format( sid, info['name'], info['lastupdated']))\n",
    "    for li in info['lights']:\n",
    "        print(\"{:40}- {}\".format('', lights[li]['name']))"
   ]
  },
  {
   "cell_type": "markdown",
   "metadata": {
    "deletable": true,
    "editable": true
   },
   "source": [
    "Tidying things up; let's delete a scene:"
   ]
  },
  {
   "cell_type": "code",
   "execution_count": 9,
   "metadata": {
    "collapsed": false,
    "deletable": true,
    "editable": true
   },
   "outputs": [],
   "source": [
    "# Uncomment and edit this if you actually want to run it!\n",
    "# print(bridge.scenes['cd06c70f7-on-0'](http_method='delete'))"
   ]
  },
  {
   "cell_type": "markdown",
   "metadata": {
    "deletable": true,
    "editable": true
   },
   "source": [
    "Show the details of the scenes that affect a particular light:"
   ]
  },
  {
   "cell_type": "code",
   "execution_count": 10,
   "metadata": {
    "collapsed": false,
    "deletable": true,
    "editable": true
   },
   "outputs": [
    {
     "name": "stdout",
     "output_type": "stream",
     "text": [
      "Light 21 - Sitting room 1\n",
      "wG25IXpcHHTim4g : Off                  2017-02-01T07:54:30\n",
      "YDfVlYFWoaL6yv5 : Nightlight           2017-02-01T07:54:29\n",
      "wVXtOrFmdnySqUz : Dimmed               2017-02-01T07:54:30\n",
      "SePln7Lt9-H7Hm7 : Bright               2017-02-01T09:52:06\n",
      "SUThT3XiV7sSzml : Warm                 2017-02-01T07:54:30\n",
      "KZNM2DZmdcydRIc : All warm             2016-08-06T23:50:55\n",
      "VaknVPkUZnSrdiB : Bright               2017-02-01T07:54:30\n",
      "GYOWpf6lHjaVc3T : Off                  2016-09-13T21:11:19\n",
      "IB57U3scrj4cQWk : Read                 2017-02-01T07:54:29\n",
      "3owQUn01W7nVsxR : Evening              2017-02-01T07:54:29\n"
     ]
    }
   ],
   "source": [
    "lightname = 'Sitting room 1'\n",
    "# How's this for a nice use of python iterators?\n",
    "light_id = next(i for i,info in lights.items() if info['name'] == lightname)\n",
    "print(\"Light {} - {}\".format(light_id, lightname))\n",
    "for line in [\"{} : {:20} {}\".format(sid, info['name'], info['lastupdated']) for sid, info in scenes.items() if light_id in info['lights']]:\n",
    "    print(line)"
   ]
  },
  {
   "cell_type": "markdown",
   "metadata": {
    "deletable": true,
    "editable": true
   },
   "source": [
    "## Groups and rooms"
   ]
  },
  {
   "cell_type": "markdown",
   "metadata": {
    "deletable": true,
    "editable": true
   },
   "source": [
    "Let's look at groups:"
   ]
  },
  {
   "cell_type": "code",
   "execution_count": 11,
   "metadata": {
    "collapsed": false,
    "deletable": true,
    "editable": true
   },
   "outputs": [
    {
     "name": "stdout",
     "output_type": "stream",
     "text": [
      "'1':\n",
      "    action:\n",
      "        alert: none\n",
      "        bri: 254\n",
      "        colormode: xy\n",
      "        ct: 262\n",
      "        effect: none\n",
      "        hue: 16620\n",
      "        'on': true\n",
      "        sat: 18\n",
      "        xy: [0.389, 0.3819]\n",
      "    lights: ['3', '6']\n",
      "    name: Kitchen\n",
      "    recycle: false\n",
      "    state: {all_on: true, any_on: true}\n",
      "    type: LightGroup\n",
      "'2':\n",
      "    action:\n",
      "        alert: none\n",
      "        bri: 254\n",
      "        colormode: xy\n",
      "        ct: 365\n",
      "        effect: none\n",
      "        hue: 14957\n",
      "        'on': false\n",
      "        sat: 141\n",
      "        xy: [0.4576, 0.4099]\n",
      "    lights: ['7', '8']\n",
      "    name: Hall\n",
      "    recycle: false\n",
      "    state: {all_on: false, any_on: false}\n",
      "    type: LightGroup\n",
      "'3':\n",
      "    action:\n",
      "        alert: none\n",
      "        bri: 254\n",
      "        colormode: xy\n",
      "        ct: 226\n",
      "        effect: none\n",
      "        hue: 33882\n",
      "        'on': true\n",
      "        sat: 61\n",
      "        xy: [0.3649, 0.3665]\n",
      "    lights: ['12', '11', '6', '3']\n",
      "    name: Dimmer 11\n",
      "    recycle: false\n",
      "    state: {all_on: true, any_on: true}\n",
      "    type: LightGroup\n",
      "'4':\n",
      "    action:\n",
      "        alert: none\n",
      "        bri: 254\n",
      "        colormode: ct\n",
      "        ct: 153\n",
      "        effect: none\n",
      "        hue: 40958\n",
      "        'on': true\n",
      "        sat: 8\n",
      "        xy: [0.3734, 0.3723]\n",
      "    class: Kitchen\n",
      "    lights: ['3', '6', '11', '12', '16', '17', '18', '15', '27', '34']\n",
      "    name: Kitchen\n",
      "    recycle: false\n",
      "    state: {all_on: true, any_on: true}\n",
      "    type: Room\n",
      "'5':\n",
      "    action: {alert: none, bri: 254, 'on': false}\n",
      "    class: Garden\n",
      "    lights: ['23']\n",
      "    name: Garden\n",
      "    recycle: false\n",
      "    state: {all_on: false, any_on: false}\n",
      "    type: Room\n",
      "'6':\n",
      "    action:\n",
      "        alert: none\n",
      "        bri: 254\n",
      "        colormode: ct\n",
      "        ct: 153\n",
      "        effect: none\n",
      "        hue: 14519\n",
      "        'on': false\n",
      "        sat: 163\n",
      "        xy: [0.4726, 0.413]\n",
      "    class: Living room\n",
      "    lights: ['14', '21', '32', '33']\n",
      "    name: Sitting room\n",
      "    recycle: false\n",
      "    state: {all_on: false, any_on: false}\n",
      "    type: Room\n",
      "'7':\n",
      "    action:\n",
      "        alert: none\n",
      "        bri: 254\n",
      "        colormode: xy\n",
      "        ct: 365\n",
      "        effect: none\n",
      "        hue: 14957\n",
      "        'on': false\n",
      "        sat: 141\n",
      "        xy: [0.4576, 0.4099]\n",
      "    class: Hallway\n",
      "    lights: ['7', '8']\n",
      "    name: Hall\n",
      "    recycle: false\n",
      "    state: {all_on: false, any_on: false}\n",
      "    type: Room\n",
      "'8':\n",
      "    action:\n",
      "        alert: none\n",
      "        bri: 1\n",
      "        colormode: xy\n",
      "        ct: 365\n",
      "        effect: none\n",
      "        hue: 14957\n",
      "        'on': false\n",
      "        sat: 141\n",
      "        xy: [0.4576, 0.4099]\n",
      "    class: Hallway\n",
      "    lights: ['4', '5']\n",
      "    name: Landing\n",
      "    recycle: false\n",
      "    state: {all_on: false, any_on: false}\n",
      "    type: Room\n",
      "'9':\n",
      "    action: {alert: none, bri: 254, colormode: ct, ct: 366, 'on': true}\n",
      "    class: Bedroom\n",
      "    lights: ['22']\n",
      "    name: Bedroom\n",
      "    recycle: false\n",
      "    state: {all_on: true, any_on: true}\n",
      "    type: Room\n",
      "\n"
     ]
    }
   ],
   "source": [
    "print(yaml.safe_dump(bridge.groups(), indent=4))"
   ]
  },
  {
   "cell_type": "markdown",
   "metadata": {
    "deletable": true,
    "editable": true
   },
   "source": [
    "The current Hue software creates 'rooms', which are groups with a type value set to Room:"
   ]
  },
  {
   "cell_type": "code",
   "execution_count": 12,
   "metadata": {
    "collapsed": false,
    "deletable": true,
    "editable": true
   },
   "outputs": [
    {
     "name": "stdout",
     "output_type": "stream",
     "text": [
      "5   : Garden\n",
      "4   : Kitchen\n",
      "7   : Hall\n",
      "6   : Sitting room\n",
      "9   : Bedroom\n",
      "8   : Landing\n"
     ]
    }
   ],
   "source": [
    "groups = bridge.groups()\n",
    "rooms = [(gid, info['name']) for gid, info in groups.items() if info.get('type') == 'Room' ]\n",
    "for room_id, info in rooms:\n",
    "    print \"{:3} : {}\".format(room_id, info)"
   ]
  },
  {
   "cell_type": "markdown",
   "metadata": {
    "deletable": true,
    "editable": true
   },
   "source": [
    "## Sensors"
   ]
  },
  {
   "cell_type": "markdown",
   "metadata": {
    "deletable": true,
    "editable": true
   },
   "source": [
    "Sensors are mostly switches, but a few other things come under the same category in the bridge.  There's a 'daylight' sensor, implemented in software, for example, and various bits of state can also be stored here so they can be used in rule conditions later."
   ]
  },
  {
   "cell_type": "code",
   "execution_count": 13,
   "metadata": {
    "collapsed": false,
    "deletable": true,
    "editable": true
   },
   "outputs": [
    {
     "name": "stdout",
     "output_type": "stream",
     "text": [
      "Bedroom tap                      7 ZGPSwitch\n",
      "Daylight                         1 Daylight\n",
      "Dimmer Switch 11 SceneCycle     14 CLIPGenericStatus\n",
      "Dimmer Switch 12 SceneCycle     13 CLIPGenericStatus\n",
      "Dining Room                      9 ZGPSwitch\n",
      "Hall                             8 ZGPSwitch\n",
      "Hall dimmer                     12 ZLLSwitch\n",
      "Hall sensor                     24 ZLLPresence\n",
      "Hue ambient light sensor 1      17 ZLLLightLevel\n",
      "Hue ambient light sensor 2      21 ZLLLightLevel\n",
      "Hue ambient light sensor 3      25 ZLLLightLevel\n",
      "Hue ambient light sensor 4      29 ZLLLightLevel\n",
      "Hue temperature sensor 1        15 ZLLTemperature\n",
      "Hue temperature sensor 2        19 ZLLTemperature\n",
      "Hue temperature sensor 3        23 ZLLTemperature\n",
      "Hue temperature sensor 4        27 ZLLTemperature\n",
      "Kitchen dimmer                  11 ZLLSwitch\n",
      "Kitchen tap                      2 ZGPSwitch\n",
      "Landing sensor                  16 ZLLPresence\n",
      "Landing tap                      3 ZGPSwitch\n",
      "Laundry sensor                  28 ZLLPresence\n",
      "Laundry tap                      4 ZGPSwitch\n",
      "MotionSensor 16.Companion       35 CLIPGenericStatus\n",
      "MotionSensor 20.Companion       22 CLIPGenericStatus\n",
      "MotionSensor 24.Companion       26 CLIPGenericStatus\n",
      "MotionSensor 28.Companion       36 CLIPGenericStatus\n",
      "Sitting room                    10 ZGPSwitch\n",
      "Top Landing sensor              20 ZLLPresence\n",
      "Top Tap                          6 ZGPSwitch\n",
      "XFDani[4][1]sn:step             32 CLIPGenericStatus\n",
      "XFDani[4]sn:state               31 CLIPGenericStatus\n"
     ]
    }
   ],
   "source": [
    "sensors = bridge.sensors()\n",
    "summary = [(info['name'], i, info['type']) for i,info in sensors.items()]\n",
    "summary.sort(lambda a,b: cmp(a[0], b[0]))  # Sort by name\n",
    "for n,i,t in summary:\n",
    "    print(\"{:30} {:>3} {}\".format(n,i,t))\n",
    "    #print(bridge.sensors[i]())\n",
    "    "
   ]
  },
  {
   "cell_type": "markdown",
   "metadata": {
    "deletable": true,
    "editable": true
   },
   "source": [
    "Here's a more complete list:"
   ]
  },
  {
   "cell_type": "code",
   "execution_count": 14,
   "metadata": {
    "collapsed": false,
    "deletable": true,
    "editable": true
   },
   "outputs": [
    {
     "name": "stdout",
     "output_type": "stream",
     "text": [
      "'1':\n",
      "    config: {configured: false, 'on': true, sunriseoffset: 30, sunsetoffset: -30}\n",
      "    manufacturername: Philips\n",
      "    modelid: PHDL00\n",
      "    name: Daylight\n",
      "    state: {daylight: null, lastupdated: none}\n",
      "    swversion: '1.0'\n",
      "    type: Daylight\n",
      "'10':\n",
      "    config: {'on': true}\n",
      "    manufacturername: Philips\n",
      "    modelid: ZGPSWITCH\n",
      "    name: Sitting room\n",
      "    state: {buttonevent: 34, lastupdated: '2017-05-13T22:18:30'}\n",
      "    type: ZGPSwitch\n",
      "    uniqueid: 00:00:00:00:00:41:1f:34-f2\n",
      "'11':\n",
      "    config:\n",
      "        battery: 84\n",
      "        'on': true\n",
      "        pending: []\n",
      "        reachable: true\n",
      "    manufacturername: Philips\n",
      "    modelid: RWL021\n",
      "    name: Kitchen dimmer\n",
      "    state: {buttonevent: 4002, lastupdated: '2017-05-13T15:48:37'}\n",
      "    swversion: 5.45.1.17846\n",
      "    type: ZLLSwitch\n",
      "    uniqueid: 00:17:88:01:10:33:28:66-02-fc00\n",
      "'12':\n",
      "    config:\n",
      "        battery: 100\n",
      "        'on': true\n",
      "        pending: []\n",
      "        reachable: true\n",
      "    manufacturername: Philips\n",
      "    modelid: RWL021\n",
      "    name: Hall dimmer\n",
      "    state: {buttonevent: 2003, lastupdated: '2017-05-11T07:49:02'}\n",
      "    swversion: 5.45.1.17846\n",
      "    type: ZLLSwitch\n",
      "    uniqueid: 00:17:88:01:10:39:f3:0e-02-fc00\n",
      "'13':\n",
      "    config: {'on': true, reachable: true}\n",
      "    manufacturername: Philips\n",
      "    modelid: PHWA01\n",
      "    name: Dimmer Switch 12 SceneCycle\n",
      "    recycle: true\n",
      "    state: {lastupdated: '2017-05-11T07:49:12', status: 0}\n",
      "    swversion: '1.0'\n",
      "    type: CLIPGenericStatus\n",
      "    uniqueid: WA0001\n",
      "'14':\n",
      "    config: {'on': true, reachable: true}\n",
      "    manufacturername: Philips\n",
      "    modelid: PHWA01\n",
      "    name: Dimmer Switch 11 SceneCycle\n",
      "    recycle: true\n",
      "    state: {lastupdated: '2017-05-13T15:48:47', status: 0}\n",
      "    swversion: '1.0'\n",
      "    type: CLIPGenericStatus\n",
      "    uniqueid: WA0001\n",
      "\n",
      "etc...\n",
      "\n"
     ]
    }
   ],
   "source": [
    "print(yaml.safe_dump(bridge.sensors(), indent=4))"
   ]
  },
  {
   "cell_type": "markdown",
   "metadata": {
    "deletable": true,
    "editable": true
   },
   "source": [
    "## Rules\n",
    "\n",
    "Rules map sensor events etc. to actions.\n"
   ]
  },
  {
   "cell_type": "code",
   "execution_count": 15,
   "metadata": {
    "collapsed": false,
    "deletable": true,
    "editable": true
   },
   "outputs": [
    {
     "name": "stdout",
     "output_type": "stream",
     "text": [
      "'1':\n",
      "    actions:\n",
      "    -   address: /groups/4/action\n",
      "        body: {scene: HfANai28yTRy07O}\n",
      "        method: PUT\n",
      "    conditions:\n",
      "    - {address: /sensors/2/state/lastupdated, operator: dx}\n",
      "    - {address: /sensors/2/state/buttonevent, operator: eq, value: '18'}\n",
      "    created: '2016-09-23T09:10:49'\n",
      "    lasttriggered: '2017-05-13T12:54:10'\n",
      "    name: Tap 2.4\n",
      "    owner: IneFZ4CIEdSQQN4oCGExhsi0cWquxMrZY6tEElKM\n",
      "    recycle: false\n",
      "    status: enabled\n",
      "    timestriggered: 10\n",
      "'10':\n",
      "    actions:\n",
      "    -   address: /groups/8/action\n",
      "        body: {scene: zvuMOXo8vmShFZK}\n",
      "        method: PUT\n",
      "    conditions:\n",
      "    - {address: /sensors/4/state/lastupdated, operator: dx}\n",
      "    - {address: /sensors/4/state/buttonevent, operator: eq, value: '18'}\n",
      "    created: '2016-07-23T11:48:50'\n",
      "    lasttriggered: none\n",
      "    name: Tap 4.4\n",
      "    owner: IneFZ4CIEdSQQN4oCGExhsi0cWquxMrZY6tEElKM\n",
      "    recycle: false\n",
      "    status: enabled\n",
      "    timestriggered: 0\n",
      "'100':\n",
      "    actions:\n",
      "    -   address: /groups/8/action\n",
      "        body: {'on': false}\n",
      "        method: PUT\n",
      "    conditions:\n",
      "    - {address: /sensors/7/state/buttonevent, operator: eq, value: '34'}\n",
      "    - {address: /sensors/7/state/lastupdated, operator: dx}\n",
      "    - {address: /groups/8/state/any_on, operator: eq, value: 'true'}\n",
      "    created: '2017-04-07T08:46:43'\n",
      "    lasttriggered: '2017-05-13T20:31:02'\n",
      "    name: 2:huelabs/tap-toggle\n",
      "    owner: hGLTt5pwYTpbQje56ItJkj5geC52gI6P4A2AnMaF\n",
      "    recycle: true\n",
      "    status: enabled\n",
      "    timestriggered: 4\n",
      "'101':\n",
      "    actions:\n",
      "    -   address: /groups/8/action\n",
      "        body: {'on': false}\n",
      "        method: PUT\n",
      "    conditions:\n",
      "    - {address: /sensors/6/state/buttonevent, operator: eq, value: '34'}\n",
      "    - {address: /sensors/6/state/lastupdated, operator: dx}\n",
      "    - {address: /groups/8/state/any_on, operator: eq, value: 'true'}\n",
      "    created: '2017-04-07T08:47:06'\n",
      "    lasttriggered: '2017-05-04T20:16:14'\n",
      "    name: 2:huelabs/tap-toggle\n",
      "    owner: hGLTt5pwYTpbQje56ItJkj5geC52gI6P4A2AnMaF\n",
      "    recycle: true\n",
      "    status: enabled\n",
      "    timestriggered: 2\n",
      "'11':\n",
      "    actions:\n",
      "    -   address: /groups/8/action\n",
      "        body: {scene: 2HASTwKUVsTGD7l}\n",
      "        method: PUT\n",
      "    conditions:\n",
      "    - {address: /sensors/4/state/lastupdated, operator: dx}\n",
      "    - {address: /sensors/4/state/buttonevent, operator: eq, value: '34'}\n",
      "    created: '2016-07-23T11:48:51'\n",
      "    lasttriggered: none\n",
      "    name: Tap 4.1\n",
      "    owner: IneFZ4CIEdSQQN4oCGExhsi0cWquxMrZY6tEElKM\n",
      "    recycle: false\n",
      "    status: enabled\n",
      "    timestriggered: 0\n",
      "\n",
      "etc...\n",
      "\n"
     ]
    }
   ],
   "source": [
    "rules = bridge.rules()\n",
    "print(yaml.safe_dump(rules, indent=4))\n"
   ]
  },
  {
   "cell_type": "markdown",
   "metadata": {
    "deletable": true,
    "editable": true
   },
   "source": [
    "Show the rules triggered by the Sitting Room switch.\n",
    "\n",
    "For Tap switches, buttons 1,2,3,4 are represented by the values 34,16,17,18 respectively."
   ]
  },
  {
   "cell_type": "code",
   "execution_count": 16,
   "metadata": {
    "collapsed": false,
    "deletable": true,
    "editable": true
   },
   "outputs": [
    {
     "name": "stdout",
     "output_type": "stream",
     "text": [
      "Switch 10 -- Sitting room\n",
      "\n",
      "29  Tap 10.3            \n",
      "   ? condition {u'operator': u'dx', u'address': u'/sensors/10/state/lastupdated'}\n",
      "   ? condition {u'operator': u'eq', u'value': u'17', u'address': u'/sensors/10/state/buttonevent'}\n",
      "   - action address /groups/6/action body {u'scene': u'SUThT3XiV7sSzml'} Warm \n",
      "32  2:huelabs/tap-toggle\n",
      "   ? condition {u'operator': u'eq', u'value': u'34', u'address': u'/sensors/10/state/buttonevent'}\n",
      "   ? condition {u'operator': u'dx', u'address': u'/sensors/10/state/lastupdated'}\n",
      "   ? condition {u'operator': u'eq', u'value': u'false', u'address': u'/groups/6/state/any_on'}\n",
      "   - action address /groups/6/action body {u'on': True}     \n",
      "31  Tap 10.4            \n",
      "   ? condition {u'operator': u'dx', u'address': u'/sensors/10/state/lastupdated'}\n",
      "   ? condition {u'operator': u'eq', u'value': u'18', u'address': u'/sensors/10/state/buttonevent'}\n",
      "   - action address /groups/6/action body {u'scene': u'3owQUn01W7nVsxR'} Evening \n",
      "30  Tap 10.2            \n",
      "   ? condition {u'operator': u'dx', u'address': u'/sensors/10/state/lastupdated'}\n",
      "   ? condition {u'operator': u'eq', u'value': u'16', u'address': u'/sensors/10/state/buttonevent'}\n",
      "   - action address /groups/6/action body {u'scene': u'SePln7Lt9-H7Hm7'} Bright \n",
      "98  2:huelabs/tap-toggle\n",
      "   ? condition {u'operator': u'eq', u'value': u'34', u'address': u'/sensors/10/state/buttonevent'}\n",
      "   ? condition {u'operator': u'dx', u'address': u'/sensors/10/state/lastupdated'}\n",
      "   ? condition {u'operator': u'eq', u'value': u'true', u'address': u'/groups/6/state/any_on'}\n",
      "   - action address /groups/6/action body {u'on': False}    \n"
     ]
    }
   ],
   "source": [
    "switch = '10'  # sitting room\n",
    "print(\"Switch {} -- {}\\n\".format(switch, sensors[switch]['name']))\n",
    "\n",
    "# State changes on the switch will look like this:\n",
    "state_string = \"/sensors/{}/state/\".format(switch)\n",
    "\n",
    "# Look through the rules for once which contain this \n",
    "# string in their conditions:\n",
    "for rid, info in rules.items():\n",
    "    this_switch = False\n",
    "    matching_conditions = [c for c in info['conditions'] if state_string in c['address']]\n",
    "    if len(matching_conditions) > 0:\n",
    "        print(\"{:3} {:20}\".format(rid, info['name']))\n",
    "        for c in info['conditions']:\n",
    "            print(\"   ? condition {}\".format(c))\n",
    "        for a in info['actions']:\n",
    "\n",
    "            # If the action involves applying a scene, get its name\n",
    "            scene_name = \"\"\n",
    "            if 'scene' in a['body']:\n",
    "                scene_name = scenes[a['body']['scene']]['name']\n",
    "            \n",
    "            print(\"   - action address {} body {:16} {} \".format( a['address'], a['body'], scene_name))\n",
    "            "
   ]
  },
  {
   "cell_type": "markdown",
   "metadata": {
    "deletable": true,
    "editable": true
   },
   "source": [
    "Let's see what is actually done by one of these scenes:"
   ]
  },
  {
   "cell_type": "code",
   "execution_count": 17,
   "metadata": {
    "collapsed": false,
    "deletable": true,
    "editable": true
   },
   "outputs": [
    {
     "name": "stdout",
     "output_type": "stream",
     "text": [
      "appdata: {data: mdVDQ_r06_d99, version: 1}\n",
      "lastupdated: '2017-02-01T07:54:29'\n",
      "lights: ['14', '21', '32', '33']\n",
      "lightstates:\n",
      "    '14':\n",
      "        bri: 189\n",
      "        'on': true\n",
      "        xy: [0.5102, 0.3642]\n",
      "    '21': {bri: 189, 'on': true}\n",
      "    '32': {bri: 189, 'on': true}\n",
      "    '33': {bri: 189, 'on': true}\n",
      "locked: true\n",
      "name: Evening\n",
      "owner: IneFZ4CIEdSQQN4oCGExhsi0cWquxMrZY6tEElKM\n",
      "picture: ''\n",
      "recycle: false\n",
      "version: 2\n",
      "\n"
     ]
    }
   ],
   "source": [
    "scene='3owQUn01W7nVsxR' # 'Evening' scene button 10.4\n",
    "\n",
    "s = bridge.scenes[scene]()\n",
    "print(yaml.safe_dump(s, indent=4))"
   ]
  },
  {
   "cell_type": "code",
   "execution_count": null,
   "metadata": {
    "collapsed": true
   },
   "outputs": [],
   "source": []
  }
 ],
 "metadata": {
  "kernelspec": {
   "display_name": "Python 2",
   "language": "python",
   "name": "python2"
  },
  "language_info": {
   "codemirror_mode": {
    "name": "ipython",
    "version": 2
   },
   "file_extension": ".py",
   "mimetype": "text/x-python",
   "name": "python",
   "nbconvert_exporter": "python",
   "pygments_lexer": "ipython2",
   "version": "2.7.13"
  },
  "widgets": {
   "state": {
    "f74b2b4846a447e5af1d44678ee8b297": {
     "views": [
      {
       "cell_index": 7
      }
     ]
    }
   },
   "version": "1.2.0"
  }
 },
 "nbformat": 4,
 "nbformat_minor": 0
}
